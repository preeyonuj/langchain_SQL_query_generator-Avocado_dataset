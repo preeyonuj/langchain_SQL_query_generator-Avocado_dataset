{
 "cells": [
  {
   "cell_type": "code",
   "execution_count": 7,
   "id": "400b5630-efd9-42f8-9bf5-14e5146c54ce",
   "metadata": {},
   "outputs": [],
   "source": [
    "from langchain_openai import ChatOpenAI, OpenAIEmbeddings\n",
    "from langchain_core.messages import HumanMessage, SystemMessage\n",
    "from secret_key import openapi_key, google_api_key, db_user, db_password, db_host, db_name\n",
    "from langchain_core.vectorstores import InMemoryVectorStore\n",
    "from langchain.prompts import SemanticSimilarityExampleSelector, FewShotPromptTemplate\n",
    "\n",
    "from langchain.utilities import SQLDatabase\n",
    "from langchain.chains import create_sql_query_chain\n",
    "from langchain.chains.sql_database.prompt import PROMPT_SUFFIX, _mysql_prompt\n",
    "from langchain.prompts.prompt import PromptTemplate\n",
    "\n",
    "from decimal import Decimal\n",
    "import datetime\n",
    "\n",
    "import pandas as pd\n",
    "\n",
    "from IPython.core.interactiveshell import InteractiveShell\n",
    "InteractiveShell.ast_node_interactivity = \"all\""
   ]
  },
  {
   "cell_type": "markdown",
   "id": "e1a57948-16ea-4ad7-8de8-b5705909cdeb",
   "metadata": {},
   "source": [
    "# LLM Definition and Invoking"
   ]
  },
  {
   "cell_type": "code",
   "execution_count": 8,
   "id": "d153f19a-4dc4-4a6f-a1b5-c6421559d779",
   "metadata": {},
   "outputs": [],
   "source": [
    "llm = ChatOpenAI(\n",
    "    model='gpt-4o',\n",
    "    temperature=0.2,\n",
    "    api_key = openapi_key\n",
    ")"
   ]
  },
  {
   "cell_type": "code",
   "execution_count": 3,
   "id": "e234b5e9-6929-487f-8aac-909d98dbbec2",
   "metadata": {},
   "outputs": [
    {
     "name": "stdout",
     "output_type": "stream",
     "text": [
      "Nihilism is a philosophical perspective that suggests life lacks inherent meaning, purpose, or intrinsic value. It often leads to the belief that traditional values and beliefs are unfounded, and that existence itself is senseless or absurd. Here are a few thoughts on nihilism from a psychological perspective:\n",
      "\n",
      "1. **Existential Crisis**: Nihilism can lead to existential crises, where individuals struggle with feelings of meaninglessness and despair. This can be a challenging emotional state, but it can also be an opportunity for personal growth and self-discovery.\n",
      "\n",
      "2. **Coping Mechanisms**: People who resonate with nihilistic views might develop various coping mechanisms. Some might turn to hedonism, seeking pleasure as a way to fill the perceived void, while others might engage in creative or intellectual pursuits to construct their own meaning.\n",
      "\n",
      "3. **Resilience and Meaning-Making**: Despite its potentially bleak outlook, confronting nihilistic ideas can lead individuals to develop resilience and engage in meaning-making processes. This can involve creating personal values, finding purpose in relationships, or contributing to causes greater than oneself.\n",
      "\n",
      "4. **Therapeutic Approaches**: In therapy, addressing nihilistic beliefs might involve exploring underlying emotions, challenging cognitive distortions, and encouraging clients to explore what gives their life meaning. Approaches like existential therapy can be particularly useful in helping individuals navigate these themes.\n",
      "\n",
      "5. **Cultural and Contextual Factors**: It's important to consider the cultural and contextual factors that might influence nihilistic beliefs. Societal changes, personal experiences, and historical contexts can all play a role in shaping one's worldview.\n",
      "\n",
      "Overall, while nihilism can present challenges, it also offers an opportunity to explore deeper philosophical questions about life and existence. Engaging with these ideas thoughtfully can lead to a more nuanced understanding of oneself and the world.\n"
     ]
    }
   ],
   "source": [
    "# Sample run to check if LLM working\n",
    "messages = [\n",
    "    SystemMessage(\"Act like a psychologist.\"),\n",
    "    HumanMessage(\"What are your thoughts on Nihilism?\")\n",
    "]\n",
    "\n",
    "result = llm.invoke(messages)\n",
    "\n",
    "print(result.content)"
   ]
  },
  {
   "cell_type": "markdown",
   "id": "083df118-ca75-46d6-b6fb-e20e7ed9d80b",
   "metadata": {},
   "source": [
    "# SQL DataBase"
   ]
  },
  {
   "cell_type": "code",
   "execution_count": 9,
   "id": "9f8c47a2-a02f-4afc-bb97-1b08d8416c94",
   "metadata": {
    "scrolled": true
   },
   "outputs": [
    {
     "name": "stdout",
     "output_type": "stream",
     "text": [
      "\n",
      "CREATE TABLE avocadodata (\n",
      "\t`FIELD1` INTEGER NOT NULL, \n",
      "\t`Date` DATE NOT NULL, \n",
      "\t`AveragePrice` DECIMAL(4, 2) NOT NULL, \n",
      "\t`Total_Volume` DECIMAL(11, 2) NOT NULL, \n",
      "\t`4046_type` DECIMAL(11, 2) NOT NULL, \n",
      "\t`4225_type` DECIMAL(11, 2) NOT NULL, \n",
      "\t`4770_type` DECIMAL(10, 2) NOT NULL, \n",
      "\t`Total_Bags` DECIMAL(11, 2) NOT NULL, \n",
      "\t`Small_Bags` DECIMAL(11, 2) NOT NULL, \n",
      "\t`Large_Bags` DECIMAL(10, 2) NOT NULL, \n",
      "\t`XLarge_Bags` DECIMAL(9, 2) NOT NULL, \n",
      "\ttype VARCHAR(12) NOT NULL, \n",
      "\tyear INTEGER NOT NULL, \n",
      "\tregion VARCHAR(19) NOT NULL\n",
      ")COLLATE utf8mb4_0900_ai_ci ENGINE=InnoDB DEFAULT CHARSET=utf8mb4\n",
      "\n",
      "/*\n",
      "3 rows from avocadodata table:\n",
      "FIELD1\tDate\tAveragePrice\tTotal_Volume\t4046_type\t4225_type\t4770_type\tTotal_Bags\tSmall_Bags\tLarge_Bags\tXLarge_Bags\ttype\tyear\tregion\n",
      "0\t2015-12-27\t1.33\t64236.62\t1036.74\t54454.85\t48.16\t8696.87\t8603.62\t93.25\t0.00\tconventional\t2015\tAlbany\n",
      "1\t2015-12-20\t1.35\t54876.98\t674.28\t44638.81\t58.33\t9505.56\t9408.07\t97.49\t0.00\tconventional\t2015\tAlbany\n",
      "2\t2015-12-13\t0.93\t118220.22\t794.70\t109149.67\t130.50\t8145.35\t8042.21\t103.14\t0.00\tconventional\t2015\tAlbany\n",
      "*/\n"
     ]
    }
   ],
   "source": [
    "db = SQLDatabase.from_uri(f\"mysql://{db_user}:{db_password}@{db_host}/{db_name}\",sample_rows_in_table_info=3)\n",
    "\n",
    "print(db.table_info)"
   ]
  },
  {
   "cell_type": "markdown",
   "id": "5af7978e-2c37-44ee-b923-118c1afd761f",
   "metadata": {},
   "source": [
    "## Inferencing queries"
   ]
  },
  {
   "cell_type": "code",
   "execution_count": 10,
   "id": "4c4884cf-86b2-472a-a7d9-90bdb8fe2731",
   "metadata": {},
   "outputs": [],
   "source": [
    "# Creating an SQL chain for inference\n",
    "chain = create_sql_query_chain(llm, db)"
   ]
  },
  {
   "cell_type": "code",
   "execution_count": 11,
   "id": "99909245-4a0f-4f0a-8209-b4b7851a31e3",
   "metadata": {},
   "outputs": [],
   "source": [
    "def parse_query(s):\n",
    "    s = s.rsplit('```')[1]\n",
    "    s = s.replace('sql\\n', '')\n",
    "    # s = s.replace('\\n', '')\n",
    "\n",
    "    try:\n",
    "        s = s.replace('SQLQuery:', '')\n",
    "    except:\n",
    "        return s\n",
    "    return s"
   ]
  },
  {
   "cell_type": "code",
   "execution_count": 7,
   "id": "12e8b5eb-9b57-478c-96bf-bb36c0a54e03",
   "metadata": {},
   "outputs": [
    {
     "name": "stdout",
     "output_type": "stream",
     "text": [
      "Query: SELECT SUM(`Total_Volume`) AS `Total_Volume_2015`\n",
      "FROM avocadodata\n",
      "WHERE `year` = 2015;\n",
      "\n"
     ]
    },
    {
     "data": {
      "text/plain": [
       "\"[(Decimal('4385468662.04'),)]\""
      ]
     },
     "execution_count": 7,
     "metadata": {},
     "output_type": "execute_result"
    }
   ],
   "source": [
    "# Query 1\n",
    "question_1 = \"What was the total volume in the year 2015?\"\n",
    "response_1 = chain.invoke({\"question\": question_1})\n",
    "print(\"Query:\", parse_query(response_1))\n",
    "db.run(parse_query(response_1))\n",
    "\n",
    "# The response is correct"
   ]
  },
  {
   "cell_type": "code",
   "execution_count": 31,
   "id": "bb7288dc-b0e1-4397-8145-a75aebf8243a",
   "metadata": {},
   "outputs": [
    {
     "name": "stdout",
     "output_type": "stream",
     "text": [
      "Query:  SELECT COUNT(DISTINCT `region`) AS region_count FROM avocadodata;\n",
      "\n"
     ]
    },
    {
     "data": {
      "text/plain": [
       "'[(54,)]'"
      ]
     },
     "execution_count": 31,
     "metadata": {},
     "output_type": "execute_result"
    }
   ],
   "source": [
    "# Query 2\n",
    "question_2 = \"How many regions are there?\"\n",
    "response_2 = chain.invoke({\"question\": question_2})\n",
    "print(\"Query:\", parse_query(response_2))\n",
    "db.run(parse_query(response_2))\n",
    "\n",
    "# The response is correct"
   ]
  },
  {
   "cell_type": "code",
   "execution_count": 30,
   "id": "c09ffd45-8aec-48b7-8b5b-cdccbfac34ed",
   "metadata": {},
   "outputs": [
    {
     "name": "stdout",
     "output_type": "stream",
     "text": [
      "Query:  SELECT `year`, AVG(`AveragePrice`) AS `AveragePrice` FROM avocadodata GROUP BY `year` ORDER BY `year` LIMIT 5;\n",
      "\n"
     ]
    },
    {
     "data": {
      "text/plain": [
       "\"[(2015, Decimal('1.375590')), (2016, Decimal('1.338640')), (2017, Decimal('1.515128')), (2018, Decimal('1.347531'))]\""
      ]
     },
     "execution_count": 30,
     "metadata": {},
     "output_type": "execute_result"
    }
   ],
   "source": [
    "# Query 3\n",
    "question_3 = \"How has average price changed over the years?\"\n",
    "response_3 = chain.invoke({\"question\": question_3})\n",
    "print(\"Query:\", parse_query(response_3))\n",
    "db.run(parse_query(response_3))\n",
    "\n",
    "# The response is correct"
   ]
  },
  {
   "cell_type": "code",
   "execution_count": 29,
   "id": "bcee62cf-4579-4efc-9dcc-5cc70ee6eb59",
   "metadata": {},
   "outputs": [
    {
     "name": "stdout",
     "output_type": "stream",
     "text": [
      "Query:  \n",
      "SELECT MONTH(`Date`) AS `Month`, SUM(`Total_Volume`) AS `TotalVolume`\n",
      "FROM avocadodata\n",
      "GROUP BY `Month`\n",
      "ORDER BY `TotalVolume` DESC\n",
      "LIMIT 1;\n",
      "\n"
     ]
    },
    {
     "data": {
      "text/plain": [
       "\"[(2, Decimal('1760528797.47'))]\""
      ]
     },
     "execution_count": 29,
     "metadata": {},
     "output_type": "execute_result"
    }
   ],
   "source": [
    "# Query 4\n",
    "question_4 = \"Which month across the years have seen the highest volume?\"\n",
    "response_4 = chain.invoke({\"question\": question_4})\n",
    "print(\"Query:\", parse_query(response_4))\n",
    "db.run(parse_query(response_4))\n",
    "\n",
    "# The response is correct"
   ]
  },
  {
   "cell_type": "code",
   "execution_count": 27,
   "id": "6120b127-4000-4cdb-af46-678abca49918",
   "metadata": {},
   "outputs": [
    {
     "name": "stdout",
     "output_type": "stream",
     "text": [
      "Query: SELECT \n",
      "    `Date`, \n",
      "    `AveragePrice`, \n",
      "    `Total_Bags`\n",
      "FROM \n",
      "    avocadodata\n",
      "WHERE \n",
      "    `AveragePrice` < (\n",
      "        SELECT `AveragePrice` - 0.20\n",
      "        FROM avocadodata AS prev\n",
      "        WHERE prev.`Date` < avocadodata.`Date`\n",
      "        ORDER BY prev.`Date` DESC\n",
      "        LIMIT 1\n",
      "    )\n",
      "ORDER BY \n",
      "    `Date` DESC\n",
      "LIMIT 5;\n",
      "\n"
     ]
    },
    {
     "data": {
      "text/plain": [
       "\"[(datetime.date(2018, 3, 25), Decimal('1.08'), Decimal('169974.92')), (datetime.date(2018, 3, 25), Decimal('0.96'), Decimal('162102.31')), (datetime.date(2018, 3, 25), Decimal('1.04'), Decimal('308417.11')), (datetime.date(2018, 3, 25), Decimal('0.73'), Decimal('788607.81')), (datetime.date(2018, 3, 25), Decimal('1.04'), Decimal('1946728.78'))]\""
      ]
     },
     "execution_count": 27,
     "metadata": {},
     "output_type": "execute_result"
    }
   ],
   "source": [
    "# Query 5\n",
    "question_5 = \"On what dates did the avocado prices dropped significantly and what were the total number of bags sold on those days?\"\n",
    "response_5 = chain.invoke({\"question\": question_5})\n",
    "print(\"Query:\", parse_query(response_5))\n",
    "db.run(parse_query(response_5))\n",
    "\n",
    "# The response is correct"
   ]
  },
  {
   "cell_type": "code",
   "execution_count": 34,
   "id": "02358b78-f702-48fd-b189-4f4cfc658dd6",
   "metadata": {},
   "outputs": [
    {
     "name": "stdout",
     "output_type": "stream",
     "text": [
      "Query:  \n",
      "SELECT \n",
      "    `region`, \n",
      "    ROUND((SUM(`Small_Bags`) / SUM(`Total_Bags`)) * 100, 2) AS `Small_Bags_Percentage`, \n",
      "    ROUND((SUM(`Large_Bags`) / SUM(`Total_Bags`)) * 100, 2) AS `Large_Bags_Percentage`, \n",
      "    ROUND((SUM(`XLarge_Bags`) / SUM(`Total_Bags`)) * 100, 2) AS `XLarge_Bags_Percentage`\n",
      "FROM \n",
      "    avocadodata\n",
      "GROUP BY \n",
      "    `region`\n",
      "LIMIT 5;\n",
      "\n"
     ]
    },
    {
     "data": {
      "text/plain": [
       "\"[('Albany', Decimal('83.83'), Decimal('14.55'), Decimal('1.62')), ('Atlanta', Decimal('61.07'), Decimal('37.95'), Decimal('0.97')), ('BaltimoreWashington', Decimal('96.63'), Decimal('2.78'), Decimal('0.59')), ('Boise', Decimal('86.64'), Decimal('13.17'), Decimal('0.19')), ('Boston', Decimal('92.63'), Decimal('6.98'), Decimal('0.39'))]\""
      ]
     },
     "execution_count": 34,
     "metadata": {},
     "output_type": "execute_result"
    }
   ],
   "source": [
    "# Query 6\n",
    "question_6 = \"Can you find for each region their preference for small, large or XLarge bags in terms of percentage leading up to 100%?\"\n",
    "response_6 = chain.invoke({\"question\": question_6})\n",
    "print(\"Query:\", parse_query(response_6))\n",
    "db.run(parse_query(response_6))\n",
    "\n",
    "# The response is correct"
   ]
  },
  {
   "cell_type": "code",
   "execution_count": 36,
   "id": "f33d7dca-ac44-4a07-a650-22c9e95ca256",
   "metadata": {},
   "outputs": [
    {
     "name": "stdout",
     "output_type": "stream",
     "text": [
      "Query:  \n",
      "SELECT \n",
      "    `region`, \n",
      "    SUM(CASE WHEN `type` = 'conventional' THEN 1 ELSE 0 END) / COUNT(*) * 100 AS `conventional_percentage`,\n",
      "    SUM(CASE WHEN `type` = 'organic' THEN 1 ELSE 0 END) / COUNT(*) * 100 AS `organic_percentage`\n",
      "FROM \n",
      "    avocadodata\n",
      "GROUP BY \n",
      "    `region`\n",
      "LIMIT 5;\n",
      "\n"
     ]
    },
    {
     "data": {
      "text/plain": [
       "\"[('Albany', Decimal('50.0000'), Decimal('50.0000')), ('Atlanta', Decimal('50.0000'), Decimal('50.0000')), ('BaltimoreWashington', Decimal('50.0000'), Decimal('50.0000')), ('Boise', Decimal('50.0000'), Decimal('50.0000')), ('Boston', Decimal('50.0000'), Decimal('50.0000'))]\""
      ]
     },
     "execution_count": 36,
     "metadata": {},
     "output_type": "execute_result"
    }
   ],
   "source": [
    "# Query 7\n",
    "question_7 = \"Can you find for each region their preference for conventional or organic in terms of percentage leading up to 100%?\\\n",
    "              Each row should represent a single region.\"\n",
    "response_7 = chain.invoke({\"question\": question_7})\n",
    "print(\"Query:\", parse_query(response_7))\n",
    "db.run(parse_query(response_7))\n",
    "\n",
    "# The response is correct"
   ]
  },
  {
   "cell_type": "markdown",
   "id": "6beecfdf-eafd-41e9-9668-b76d44b5a276",
   "metadata": {},
   "source": [
    "# Few Shot Learning"
   ]
  },
  {
   "cell_type": "code",
   "execution_count": 12,
   "id": "bd49096a-925e-4184-aa67-d7e42b19c7fd",
   "metadata": {},
   "outputs": [],
   "source": [
    "few_shots = [\n",
    "    {'Question': 'Which 5 regions have the most volatile avocado prices year-over-year?',\n",
    " 'SQLQuery': \"\"\"\n",
    "    SELECT region,\n",
    "           year,\n",
    "           ROUND(AVG(AveragePrice), 2) AS avg_price,\n",
    "           ROUND(STDDEV(AveragePrice), 2) AS price_stddev\n",
    "    FROM avocadodata\n",
    "    GROUP BY region, year\n",
    "    ORDER BY price_stddev DESC\n",
    "    LIMIT 5;\n",
    " \"\"\",\n",
    " 'SQLResult': \"\"\"[('Spokane', 2017, Decimal('1.60'), 0.61), ('Portland', 2017, Decimal('1.43'), 0.61), ('Seattle', 2017, Decimal('1.60'), 0.61), ('PhoenixTucson', 2016, Decimal('1.26'), 0.6), ('SanFrancisco', 2016, Decimal('1.88'), 0.57)]\"\"\",\n",
    " 'Answer': \"\"\"['Spokane', 'Portland', 'Seattle', 'PhoenixTucson', 'SanFrancisco']\"\"\"},\n",
    "\n",
    "\n",
    "    {'Question': 'Which regions show increasing demand and decreasing average price year over year (possible oversupply)?',\n",
    " 'SQLQuery': \"\"\"\n",
    "    WITH yearly_trends AS (\n",
    "      SELECT region, year,\n",
    "             SUM(Total_Volume) AS yearly_volume,\n",
    "             AVG(AveragePrice) AS yearly_avg_price\n",
    "      FROM avocadodata\n",
    "      GROUP BY region, year\n",
    "    ),\n",
    "    price_volume_change AS (\n",
    "      SELECT t1.region,\n",
    "             t1.year AS year_start,\n",
    "             t2.year AS year_end,\n",
    "             t2.yearly_volume - t1.yearly_volume AS volume_change,\n",
    "             t2.yearly_avg_price - t1.yearly_avg_price AS price_change\n",
    "      FROM yearly_trends t1\n",
    "      JOIN yearly_trends t2 ON t1.region = t2.region AND t1.year = t2.year - 1\n",
    "    )\n",
    "    SELECT *\n",
    "    FROM price_volume_change\n",
    "    WHERE volume_change > 0 AND price_change < 0\n",
    "    ORDER BY ABS(volume_change * price_change) DESC\n",
    "    LIMIT 5;\n",
    " \"\"\",\n",
    " 'SQLResult': \"\"\"[('Southeast', 2015, 2016, Decimal('38026268.59'), Decimal('-0.127789')), ('West', 2015, 2016, Decimal('39907015.38'), Decimal('-0.056923')), ('SouthCentral', 2015, 2016, Decimal('13644105.60'), Decimal('-0.085096')), ('Portland', 2015, 2016, Decimal('9368056.53'), Decimal('-0.115192')), ('LosAngeles', 2015, 2016, Decimal('14921609.84'), Decimal('-0.068750'))]\"\"\",\n",
    " 'Answer': \"\"\"['Southeast', 'West', 'SouthCentral', 'Portland', 'LosAngeles']\"\"\"},\n",
    "\n",
    "    \n",
    "    {'Question': 'What are the 5 most extreme avocado price outliers compared to the regional average?',\n",
    " 'SQLQuery': \"\"\"\n",
    "    WITH region_stats AS (\n",
    "      SELECT region,\n",
    "             AVG(AveragePrice) AS mean_price,\n",
    "             STDDEV(AveragePrice) AS stddev_price\n",
    "      FROM avocadodata\n",
    "      GROUP BY region\n",
    "    )\n",
    "    SELECT a.region, a.Date, a.AveragePrice,\n",
    "           r.mean_price, r.stddev_price\n",
    "    FROM avocadodata a\n",
    "    JOIN region_stats r ON a.region = r.region\n",
    "    WHERE ABS(a.AveragePrice - r.mean_price) > 2 * r.stddev_price\n",
    "    ORDER BY ABS(a.AveragePrice - r.mean_price) DESC\n",
    "    LIMIT 5;\n",
    " \"\"\",\n",
    " 'SQLResult': \"\"\"[('Tampa', datetime.date(2017, 4, 16), Decimal('3.17'), Decimal('1.408846'), 0.3405853384705), ('WestTexNewMexico', datetime.date(2016, 10, 16), Decimal('2.93'), Decimal('1.261701'), 0.4963644849685269), ('LasVegas', datetime.date(2016, 10, 2), Decimal('3.03'), Decimal('1.380917'), 0.47326642758671433), ('MiamiFtLauderdale', datetime.date(2017, 3, 12), Decimal('3.05'), Decimal('1.428491'), 0.33599596042836527), ('WestTexNewMexico', datetime.date(2016, 9, 25), Decimal('2.83'), Decimal('1.261701'), 0.4963644849685269)]\"\"\",\n",
    " 'Answer': \"\"\"['Tampa 2017-04-16', 'WestTexNewMexico 2016-10-16', 'LasVegas 2016-10-02', 'MiamiFtLauderdale 2017-03-12', 'WestTexNewMexico 2016-09-25']\"\"\"},\n",
    "\n",
    "\n",
    "\n",
    "\n",
    "{'Question': 'Which 5 calendar months have the highest average avocado prices across all years?',\n",
    " 'SQLQuery': \"\"\"\n",
    "    SELECT EXTRACT(MONTH FROM Date) AS month,\n",
    "           ROUND(AVG(AveragePrice), 2) AS avg_price\n",
    "    FROM avocadodata\n",
    "    GROUP BY EXTRACT(MONTH FROM Date)\n",
    "    ORDER BY avg_price DESC\n",
    "    LIMIT 5;\n",
    " \"\"\",\n",
    " 'SQLResult': \"\"\"[(10, Decimal('1.58')), (9, Decimal('1.57')), (8, Decimal('1.51')), (11, Decimal('1.46')), (7, Decimal('1.46'))]\"\"\",\n",
    " 'Answer': \"\"\"['10', '9', '8', '11', '7']\"\"\"}\n",
    "\n",
    "\n",
    "]"
   ]
  },
  {
   "cell_type": "code",
   "execution_count": 13,
   "id": "14399ae5-5e18-4e2b-8c36-d7d1a2dadc77",
   "metadata": {},
   "outputs": [],
   "source": [
    "embeddings = OpenAIEmbeddings(model=\"text-embedding-3-large\",\n",
    "                              api_key = openapi_key)\n",
    "\n",
    "to_vectorize = [\" \".join(example.values()) for example in few_shots]\n",
    "\n",
    "vectorstore = InMemoryVectorStore.from_texts(to_vectorize, embeddings, metadatas=few_shots)"
   ]
  },
  {
   "cell_type": "code",
   "execution_count": 14,
   "id": "909d21c9-e679-4b9f-8c60-d044766ddbb8",
   "metadata": {},
   "outputs": [],
   "source": [
    "example_selector = SemanticSimilarityExampleSelector(\n",
    "    vectorstore=vectorstore,\n",
    "    k=2,\n",
    ")\n",
    "\n",
    "# example_selector.select_examples({\"Question\": \"Which 5 regions have the least volatile avocado prices year-over-year?\"})"
   ]
  },
  {
   "cell_type": "code",
   "execution_count": 14,
   "id": "e48fdc05-821d-485e-8eb4-26d83d65db31",
   "metadata": {},
   "outputs": [
    {
     "data": {
      "text/plain": [
       "[{'Question': 'Which 5 regions have the most volatile avocado prices year-over-year?',\n",
       "  'SQLQuery': '\\n    SELECT region,\\n           year,\\n           ROUND(AVG(AveragePrice), 2) AS avg_price,\\n           ROUND(STDDEV(AveragePrice), 2) AS price_stddev\\n    FROM avocadodata\\n    GROUP BY region, year\\n    ORDER BY price_stddev DESC\\n    LIMIT 5;\\n ',\n",
       "  'SQLResult': \"[('Spokane', 2017, Decimal('1.60'), 0.61), ('Portland', 2017, Decimal('1.43'), 0.61), ('Seattle', 2017, Decimal('1.60'), 0.61), ('PhoenixTucson', 2016, Decimal('1.26'), 0.6), ('SanFrancisco', 2016, Decimal('1.88'), 0.57)]\",\n",
       "  'Answer': \"['Spokane', 'Portland', 'Seattle', 'PhoenixTucson', 'SanFrancisco']\"},\n",
       " {'Question': 'Which regions show increasing demand and decreasing average price year over year (possible oversupply)?',\n",
       "  'SQLQuery': '\\n    WITH yearly_trends AS (\\n      SELECT region, year,\\n             SUM(Total_Volume) AS yearly_volume,\\n             AVG(AveragePrice) AS yearly_avg_price\\n      FROM avocadodata\\n      GROUP BY region, year\\n    ),\\n    price_volume_change AS (\\n      SELECT t1.region,\\n             t1.year AS year_start,\\n             t2.year AS year_end,\\n             t2.yearly_volume - t1.yearly_volume AS volume_change,\\n             t2.yearly_avg_price - t1.yearly_avg_price AS price_change\\n      FROM yearly_trends t1\\n      JOIN yearly_trends t2 ON t1.region = t2.region AND t1.year = t2.year - 1\\n    )\\n    SELECT *\\n    FROM price_volume_change\\n    WHERE volume_change > 0 AND price_change < 0\\n    ORDER BY ABS(volume_change * price_change) DESC\\n    LIMIT 5;\\n ',\n",
       "  'SQLResult': \"[('Southeast', 2015, 2016, Decimal('38026268.59'), Decimal('-0.127789')), ('West', 2015, 2016, Decimal('39907015.38'), Decimal('-0.056923')), ('SouthCentral', 2015, 2016, Decimal('13644105.60'), Decimal('-0.085096')), ('Portland', 2015, 2016, Decimal('9368056.53'), Decimal('-0.115192')), ('LosAngeles', 2015, 2016, Decimal('14921609.84'), Decimal('-0.068750'))]\",\n",
       "  'Answer': \"['Southeast', 'West', 'SouthCentral', 'Portland', 'LosAngeles']\"}]"
      ]
     },
     "execution_count": 14,
     "metadata": {},
     "output_type": "execute_result"
    }
   ],
   "source": [
    "example_selector.select_examples({\"Question\": \"Least volatile avocado prices year-over-year?\"})"
   ]
  },
  {
   "cell_type": "markdown",
   "id": "4143fecc-5f9a-42e0-abd4-f9ef73fc0ab5",
   "metadata": {},
   "source": [
    "# Setting up PromptTemplete using input variables"
   ]
  },
  {
   "cell_type": "code",
   "execution_count": 15,
   "id": "8a5fe03a-847b-4ea0-8eba-e8f41af3575c",
   "metadata": {},
   "outputs": [],
   "source": [
    "example_prompt = PromptTemplate(\n",
    "    input_variables=[\"Question\", \"SQLQuery\", \"SQLResult\",\"Answer\",],\n",
    "    template=\"\\nQuestion: {Question}\\nSQLQuery: {SQLQuery}\\nSQLResult: {SQLResult}\\nAnswer: {Answer}\",\n",
    ")"
   ]
  },
  {
   "cell_type": "code",
   "execution_count": 16,
   "id": "5b36d95c-408c-4a7b-bacc-fb3ac26c1460",
   "metadata": {},
   "outputs": [],
   "source": [
    "few_shot_prompt = FewShotPromptTemplate(\n",
    "    example_selector=example_selector,\n",
    "    example_prompt=example_prompt,\n",
    "    prefix=_mysql_prompt,\n",
    "    suffix=PROMPT_SUFFIX,\n",
    "    input_variables=[\"input\", \"table_info\", \"top_k\"], #These variables are used in the prefix and suffix\n",
    ")"
   ]
  },
  {
   "cell_type": "code",
   "execution_count": 17,
   "id": "0cdf705d-6150-4656-892e-a21676511f4c",
   "metadata": {},
   "outputs": [],
   "source": [
    "chain = create_sql_query_chain(llm, db, prompt=few_shot_prompt)"
   ]
  },
  {
   "cell_type": "markdown",
   "id": "e6e47d2a-f8c9-467c-bef5-52f45493abe9",
   "metadata": {},
   "source": [
    "# Processing data into tables (Beautification!)"
   ]
  },
  {
   "cell_type": "code",
   "execution_count": 53,
   "id": "9f694407-9d2b-44d1-9852-54063cc95bbf",
   "metadata": {},
   "outputs": [
    {
     "name": "stdout",
     "output_type": "stream",
     "text": [
      "Query: SELECT \n",
      "    ROUND(AVG(`AveragePrice`), 2) AS avg_average_price,\n",
      "    ROUND(STDDEV(`AveragePrice`), 2) AS stddev_average_price,\n",
      "    ROUND(MIN(`AveragePrice`), 2) AS min_average_price,\n",
      "    ROUND(MAX(`AveragePrice`), 2) AS max_average_price,\n",
      "    ROUND(AVG(`Total_Volume`), 2) AS avg_total_volume,\n",
      "    ROUND(STDDEV(`Total_Volume`), 2) AS stddev_total_volume,\n",
      "    ROUND(MIN(`Total_Volume`), 2) AS min_total_volume,\n",
      "    ROUND(MAX(`Total_Volume`), 2) AS max_total_volume,\n",
      "    ROUND(AVG(`4046_type`), 2) AS avg_4046_type,\n",
      "    ROUND(STDDEV(`4046_type`), 2) AS stddev_4046_type,\n",
      "    ROUND(MIN(`4046_type`), 2) AS min_4046_type,\n",
      "    ROUND(MAX(`4046_type`), 2) AS max_4046_type,\n",
      "    ROUND(AVG(`4225_type`), 2) AS avg_4225_type,\n",
      "    ROUND(STDDEV(`4225_type`), 2) AS stddev_4225_type,\n",
      "    ROUND(MIN(`4225_type`), 2) AS min_4225_type,\n",
      "    ROUND(MAX(`4225_type`), 2) AS max_4225_type,\n",
      "    ROUND(AVG(`4770_type`), 2) AS avg_4770_type,\n",
      "    ROUND(STDDEV(`4770_type`), 2) AS stddev_4770_type,\n",
      "    ROUND(MIN(`4770_type`), 2) AS min_4770_type,\n",
      "    ROUND(MAX(`4770_type`), 2) AS max_4770_type,\n",
      "    ROUND(AVG(`Total_Bags`), 2) AS avg_total_bags,\n",
      "    ROUND(STDDEV(`Total_Bags`), 2) AS stddev_total_bags,\n",
      "    ROUND(MIN(`Total_Bags`), 2) AS min_total_bags,\n",
      "    ROUND(MAX(`Total_Bags`), 2) AS max_total_bags,\n",
      "    ROUND(AVG(`Small_Bags`), 2) AS avg_small_bags,\n",
      "    ROUND(STDDEV(`Small_Bags`), 2) AS stddev_small_bags,\n",
      "    ROUND(MIN(`Small_Bags`), 2) AS min_small_bags,\n",
      "    ROUND(MAX(`Small_Bags`), 2) AS max_small_bags,\n",
      "    ROUND(AVG(`Large_Bags`), 2) AS avg_large_bags,\n",
      "    ROUND(STDDEV(`Large_Bags`), 2) AS stddev_large_bags,\n",
      "    ROUND(MIN(`Large_Bags`), 2) AS min_large_bags,\n",
      "    ROUND(MAX(`Large_Bags`), 2) AS max_large_bags,\n",
      "    ROUND(AVG(`XLarge_Bags`), 2) AS avg_xlarge_bags,\n",
      "    ROUND(STDDEV(`XLarge_Bags`), 2) AS stddev_xlarge_bags,\n",
      "    ROUND(MIN(`XLarge_Bags`), 2) AS min_xlarge_bags,\n",
      "    ROUND(MAX(`XLarge_Bags`), 2) AS max_xlarge_bags\n",
      "FROM avocadodata;\n",
      "\n"
     ]
    }
   ],
   "source": [
    "aug_q1 = \"Generate descriptive statistics for all the numerical columns?\"\n",
    "aug_q1_response = chain.invoke({\"question\": aug_q1})\n",
    "print(\"Query:\", parse_query(aug_q1_response))\n",
    "result = db.run(parse_query(aug_q1_response), include_columns=True)"
   ]
  },
  {
   "cell_type": "code",
   "execution_count": 54,
   "id": "c22666c7-12c5-4704-8b5a-d882e66e6ac4",
   "metadata": {},
   "outputs": [
    {
     "data": {
      "text/html": [
       "<div>\n",
       "<style scoped>\n",
       "    .dataframe tbody tr th:only-of-type {\n",
       "        vertical-align: middle;\n",
       "    }\n",
       "\n",
       "    .dataframe tbody tr th {\n",
       "        vertical-align: top;\n",
       "    }\n",
       "\n",
       "    .dataframe thead th {\n",
       "        text-align: right;\n",
       "    }\n",
       "</style>\n",
       "<table border=\"1\" class=\"dataframe\">\n",
       "  <thead>\n",
       "    <tr style=\"text-align: right;\">\n",
       "      <th></th>\n",
       "      <th>avg_average_price</th>\n",
       "      <th>stddev_average_price</th>\n",
       "      <th>min_average_price</th>\n",
       "      <th>max_average_price</th>\n",
       "      <th>avg_total_volume</th>\n",
       "      <th>stddev_total_volume</th>\n",
       "      <th>min_total_volume</th>\n",
       "      <th>max_total_volume</th>\n",
       "      <th>avg_4046_type</th>\n",
       "      <th>stddev_4046_type</th>\n",
       "      <th>...</th>\n",
       "      <th>min_small_bags</th>\n",
       "      <th>max_small_bags</th>\n",
       "      <th>avg_large_bags</th>\n",
       "      <th>stddev_large_bags</th>\n",
       "      <th>min_large_bags</th>\n",
       "      <th>max_large_bags</th>\n",
       "      <th>avg_xlarge_bags</th>\n",
       "      <th>stddev_xlarge_bags</th>\n",
       "      <th>min_xlarge_bags</th>\n",
       "      <th>max_xlarge_bags</th>\n",
       "    </tr>\n",
       "  </thead>\n",
       "  <tbody>\n",
       "    <tr>\n",
       "      <th>0</th>\n",
       "      <td>1.41</td>\n",
       "      <td>0.4</td>\n",
       "      <td>0.44</td>\n",
       "      <td>3.25</td>\n",
       "      <td>850644.01</td>\n",
       "      <td>3453450.73</td>\n",
       "      <td>84.56</td>\n",
       "      <td>62505646.52</td>\n",
       "      <td>293008.42</td>\n",
       "      <td>1264954.42</td>\n",
       "      <td>...</td>\n",
       "      <td>0.00</td>\n",
       "      <td>13384586.80</td>\n",
       "      <td>54338.09</td>\n",
       "      <td>243959.28</td>\n",
       "      <td>0.00</td>\n",
       "      <td>5719096.61</td>\n",
       "      <td>3106.43</td>\n",
       "      <td>17692.41</td>\n",
       "      <td>0.00</td>\n",
       "      <td>551693.65</td>\n",
       "    </tr>\n",
       "  </tbody>\n",
       "</table>\n",
       "<p>1 rows × 36 columns</p>\n",
       "</div>"
      ],
      "text/plain": [
       "  avg_average_price  stddev_average_price min_average_price max_average_price  \\\n",
       "0              1.41                   0.4              0.44              3.25   \n",
       "\n",
       "  avg_total_volume  stddev_total_volume min_total_volume max_total_volume  \\\n",
       "0        850644.01           3453450.73            84.56      62505646.52   \n",
       "\n",
       "  avg_4046_type  stddev_4046_type  ... min_small_bags max_small_bags  \\\n",
       "0     293008.42        1264954.42  ...           0.00    13384586.80   \n",
       "\n",
       "  avg_large_bags  stddev_large_bags min_large_bags max_large_bags  \\\n",
       "0       54338.09          243959.28           0.00     5719096.61   \n",
       "\n",
       "  avg_xlarge_bags  stddev_xlarge_bags min_xlarge_bags max_xlarge_bags  \n",
       "0         3106.43            17692.41            0.00       551693.65  \n",
       "\n",
       "[1 rows x 36 columns]"
      ]
     },
     "execution_count": 54,
     "metadata": {},
     "output_type": "execute_result"
    }
   ],
   "source": [
    "pd.DataFrame(eval(result, {'Decimal': Decimal, 'datetime': datetime}))"
   ]
  }
 ],
 "metadata": {
  "kernelspec": {
   "display_name": "Python 3 (ipykernel)",
   "language": "python",
   "name": "python3"
  },
  "language_info": {
   "codemirror_mode": {
    "name": "ipython",
    "version": 3
   },
   "file_extension": ".py",
   "mimetype": "text/x-python",
   "name": "python",
   "nbconvert_exporter": "python",
   "pygments_lexer": "ipython3",
   "version": "3.12.1"
  }
 },
 "nbformat": 4,
 "nbformat_minor": 5
}
